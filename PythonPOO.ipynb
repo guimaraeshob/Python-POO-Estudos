{
  "nbformat": 4,
  "nbformat_minor": 0,
  "metadata": {
    "colab": {
      "provenance": [],
      "authorship_tag": "ABX9TyMEAgLheRsPNQ4u/ncrjMCi",
      "include_colab_link": true
    },
    "kernelspec": {
      "name": "python3",
      "display_name": "Python 3"
    },
    "language_info": {
      "name": "python"
    }
  },
  "cells": [
    {
      "cell_type": "markdown",
      "metadata": {
        "id": "view-in-github",
        "colab_type": "text"
      },
      "source": [
        "<a href=\"https://colab.research.google.com/github/guimaraeshob/Python-POO-Estudos/blob/main/PythonPOO.ipynb\" target=\"_parent\"><img src=\"https://colab.research.google.com/assets/colab-badge.svg\" alt=\"Open In Colab\"/></a>"
      ]
    },
    {
      "cell_type": "code",
      "execution_count": null,
      "metadata": {
        "id": "jJq4SWXP98Jz"
      },
      "outputs": [],
      "source": []
    },
    {
      "cell_type": "markdown",
      "source": [
        "## Criando uma Classe"
      ],
      "metadata": {
        "id": "V7EEvS6E99rD"
      }
    },
    {
      "cell_type": "code",
      "source": [
        "class Cachorro:\n",
        "  def __init__(self,nome,cor,acordado=True, fome=True):\n",
        "    self.nome = nome\n",
        "    self.cor = cor\n",
        "    self.acordado = acordado\n",
        "\n",
        "  def latir(self):\n",
        "    if self.acordado == True:\n",
        "      print(\"Auauaua\")\n",
        "    elif self.acordado == False:\n",
        "      print(\"O cachorro está dormindo, não pode latir\")\n",
        "\n",
        "\n",
        "  def dormir(self):\n",
        "    if self.acordado == True:\n",
        "      print(\"O cachorro estava acordado e agora foi dormir\")\n",
        "    elif self.acordado == False:\n",
        "      print(\"O cachorro já está dormindo\")\n",
        "\n",
        "  def comer(self):\n",
        "    if self.acordado == False: # Se estiver dormindo\n",
        "      print(f'{self.nome} não pode comer porque está dormindo {self.acordado}')\n",
        "    elif self.acordado == True:\n",
        "      print(f'{self.nome} está acordado {self.acordado}, e pode comer')\n",
        "\n",
        "\n",
        "\n",
        "\n",
        "# Criar Objeto\n",
        "cao1 = Cachorro(\"Panda\",\"Caramelo\",False,False)\n",
        "cao2 =Cachorro(\"Thor\",\"Cinza\",True,True)\n",
        "\n",
        "# print(f'O cachorro {cao1.nome} está acordado ? {cao1.acordado}')\n",
        "\n",
        "\n",
        "\n",
        "\n",
        "cao1.comer()\n",
        "cao2.comer()\n"
      ],
      "metadata": {
        "colab": {
          "base_uri": "https://localhost:8080/"
        },
        "id": "l_ncxyVV-Cpa",
        "outputId": "a91083f4-8ef1-4f3e-c0a8-fdbd0ec9fc3f"
      },
      "execution_count": null,
      "outputs": [
        {
          "output_type": "stream",
          "name": "stdout",
          "text": [
            "Panda não pode comer porque está dormindo False\n",
            "Thor está acordado True, e pode comer\n"
          ]
        }
      ]
    },
    {
      "cell_type": "markdown",
      "source": [
        "### Algoritmo de Conta Bancaria usando POO em Python"
      ],
      "metadata": {
        "id": "HmQacuDHiiwE"
      }
    },
    {
      "cell_type": "code",
      "source": [
        "from ast import Break\n",
        "\n",
        "class Conta():\n",
        "  def __init__(self,deposito=0, saldo=0, saque=0):\n",
        "\n",
        "    self.deposito = deposito\n",
        "    self.saldo = saldo\n",
        "    self.saque = saque\n",
        "\n",
        "  def dep(self):\n",
        "    self.deposito = int(input(\"Deposite um valor de deposito: \"))\n",
        "    self.saldo += self.deposito\n",
        "    print(f'Deposito R$ {self.deposito} Saldo R$ {self.saldo}')\n",
        "\n",
        "  def saq(self):\n",
        "    self.saque = int(input(\"Quanto deseja Sacar ?: \"))\n",
        "    if self.saldo < self.saque:\n",
        "      print('Saldo insuficiente! ')\n",
        "      print(f'Saldo atual {self.saldo}')\n",
        "      print(\"---------------------------------\")\n",
        "      return\n",
        "    else:\n",
        "       self.saldo = self.saldo - self.saque\n",
        "\n",
        "    print(f'Saque de R$ {self.saque}')\n",
        "    print(f'Saldo atual R$ {self.saldo}')\n",
        "    print(\"------------------------------------\")\n",
        "\n",
        "\n",
        "\n",
        "\n",
        "conta1 = Conta()\n",
        "\n",
        "conta1.dep()\n",
        "conta1.saq()\n",
        "\n",
        "\n",
        "\n"
      ],
      "metadata": {
        "colab": {
          "base_uri": "https://localhost:8080/"
        },
        "id": "JhVHg48BRKNa",
        "outputId": "11d1b435-fda5-4e1f-e95b-2d20057b593f"
      },
      "execution_count": null,
      "outputs": [
        {
          "output_type": "stream",
          "name": "stdout",
          "text": [
            "Deposite um valor de deposito: 305\n",
            "Deposito R$ 305 Saldo R$ 305\n",
            "Quanto deseja Sacar ?: 237\n",
            "Saque de R$ 237\n",
            "Saldo atual R$ 68\n",
            "------------------------------------\n"
          ]
        }
      ]
    },
    {
      "cell_type": "code",
      "source": [
        "\n",
        "class Bicicleta():\n",
        "\n",
        "  # Metodo Construtor\n",
        "  def __init__(self,cor,modelo,ano,valor, movimento=True):\n",
        "\n",
        "    # Atributos da Classe\n",
        "    self.cor = cor\n",
        "    self.modelo = modelo\n",
        "    self.ano = ano\n",
        "    self.valor = valor\n",
        "    self.movimento = movimento\n",
        "\n",
        "  #Métpodos\n",
        "  def buzinar(self):\n",
        "    print(\" Apertou a buzina Poom poom...\")\n",
        "\n",
        "  def acelerar(self):\n",
        "    if self.movimento == True:\n",
        "      print(\"Vc acelerou a Bike Vrummmmm...\")\n",
        "    elif self.movimento == False:\n",
        "      print(\"A bile está parada, precisa estar em movimento para acelerar\")\n",
        "      while True:\n",
        "        mov = input(\"Deseja andar com a Bike ? s[sim] n[não]\")\n",
        "        if mov == \"s\":\n",
        "          self.movimento = True\n",
        "          print(\"Vamos andar de Bike\")\n",
        "          print(\"Bike andando \")\n",
        "          return\n",
        "        elif mov == \"n\":\n",
        "           self.movimento = False\n",
        "           print(\"Então vamos continuar coma bike parada \")\n",
        "           return\n",
        "\n",
        "  def parar(self):\n",
        "    if self.movimento == True:\n",
        "      print(\"Parando...\")\n",
        "      print(\"Bike parada.\")\n",
        "    elif self.movimento == False:\n",
        "      print(\"A bicicleta já está parada\")\n",
        "\n",
        "\n",
        "bike1 = Bicicleta(\"black\",\"Caloi\",2024,900,False) #istânciar\n",
        "\n",
        "print(f'Cor: {bike1.cor}  \\nModelo: {bike1.modelo} \\nAno: {bike1.ano} \\nValor R$ {bike1.valor}')\n",
        "print(30* \"-=\")\n",
        "\n",
        "\n",
        "\n",
        "bike1.acelerar()\n",
        "\n",
        "\n"
      ],
      "metadata": {
        "colab": {
          "base_uri": "https://localhost:8080/"
        },
        "id": "BEpfdaDjSi4w",
        "outputId": "4ef1f4d5-7b4f-4eb1-9adf-40fa7f72ae6e"
      },
      "execution_count": 37,
      "outputs": [
        {
          "output_type": "stream",
          "name": "stdout",
          "text": [
            "Cor: black  \n",
            "Modelo: Caloi \n",
            "Ano: 2024 \n",
            "Valor R$ 900\n",
            "-=-=-=-=-=-=-=-=-=-=-=-=-=-=-=-=-=-=-=-=-=-=-=-=-=-=-=-=-=-=\n",
            "A bile está parada, precisa estar em movimento para acelerar\n",
            "Deseja andar com a Bike ? s[sim] n[não]n\n",
            "Então vamos continuar coma bike parada \n"
          ]
        }
      ]
    },
    {
      "cell_type": "code",
      "source": [],
      "metadata": {
        "id": "o-Mo2slzZ0MZ"
      },
      "execution_count": null,
      "outputs": []
    }
  ]
}