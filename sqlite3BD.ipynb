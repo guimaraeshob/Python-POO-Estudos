{
  "nbformat": 4,
  "nbformat_minor": 0,
  "metadata": {
    "colab": {
      "provenance": [],
      "authorship_tag": "ABX9TyNbdCn26qgyUApfwdgq/ToZ",
      "include_colab_link": true
    },
    "kernelspec": {
      "name": "python3",
      "display_name": "Python 3"
    },
    "language_info": {
      "name": "python"
    }
  },
  "cells": [
    {
      "cell_type": "markdown",
      "metadata": {
        "id": "view-in-github",
        "colab_type": "text"
      },
      "source": [
        "<a href=\"https://colab.research.google.com/github/guimaraeshob/Python-POO-Estudos/blob/main/sqlite3BD.ipynb\" target=\"_parent\"><img src=\"https://colab.research.google.com/assets/colab-badge.svg\" alt=\"Open In Colab\"/></a>"
      ]
    },
    {
      "cell_type": "code",
      "execution_count": 57,
      "metadata": {
        "colab": {
          "base_uri": "https://localhost:8080/"
        },
        "id": "28_D-uEbCXif",
        "outputId": "8c0dc88f-a5e3-4b41-f756-52a5e963fab5"
      },
      "outputs": [
        {
          "output_type": "stream",
          "name": "stdout",
          "text": [
            "Requirement already satisfied: db-sqlite3 in /usr/local/lib/python3.10/dist-packages (0.0.1)\n",
            "Requirement already satisfied: db in /usr/local/lib/python3.10/dist-packages (from db-sqlite3) (0.1.1)\n",
            "Requirement already satisfied: antiorm in /usr/local/lib/python3.10/dist-packages (from db->db-sqlite3) (1.2.1)\n"
          ]
        }
      ],
      "source": [
        "!pip install db-sqlite3\n"
      ]
    },
    {
      "cell_type": "code",
      "source": [
        "import sqlite3\n",
        "\n",
        "# Passo 1: Conectar ao banco de dados\n",
        "conn = sqlite3.connect('alunos.db')\n",
        "\n",
        "# Passo 2: Definir uma classe para representar os dados\n",
        "class Aluno:\n",
        "    def __init__(self, nome, idade,serie):\n",
        "        self.nome = nome\n",
        "        self.idade = idade\n",
        "        self.serie = serie\n",
        "        self.cursor = conn.cursor()  # Adicione esta linha\n",
        "\n",
        "    def salvar(self):\n",
        "        # Inserir um novo aluno no banco de dados\n",
        "        cursor = conn.cursor()\n",
        "        cursor.execute(\"INSERT INTO alunos (nome, idade,serie) VALUES (?, ?, ?)\", (self.nome, self.idade, self.serie))\n",
        "        conn.commit()\n",
        "\n",
        "    @staticmethod\n",
        "    def buscar_por_nome(nome):\n",
        "        # Buscar um aluno pelo nome no banco de dados\n",
        "        cursor = conn.cursor()\n",
        "        cursor.execute(\"SELECT * FROM alunos WHERE nome=?\", (nome,))\n",
        "        aluno = cursor.fetchone()\n",
        "        if aluno:\n",
        "            return Aluno(aluno[1], aluno[2])\n",
        "        else:\n",
        "            return print(f'Aluno: {aluno} não existe no BD')\n",
        "\n",
        "    def atualizar(self):\n",
        "        # Atualizar a idade de um aluno no banco de dados\n",
        "        cursor = conn.cursor()\n",
        "        cursor.execute(\"UPDATE alunos SET idade=? WHERE nome=?\", (self.idade, self.nome))\n",
        "        conn.commit()\n",
        "\n",
        "    def excluir(self):\n",
        "        # Excluir um aluno do banco de dados\n",
        "        cursor = conn.cursor()\n",
        "        cursor.execute(\"DELETE FROM alunos WHERE nome=?\", (self.nome,))\n",
        "        conn.commit()\n",
        "\n",
        "    def mostrar_todos(self):\n",
        "        # Selecionar todos os registros da tabela\n",
        "        self.cursor.execute(f\"SELECT * FROM alunos\")\n",
        "        rows = self.cursor.fetchall()\n",
        "        return rows\n",
        "        registros = Aluno.verBd()\n",
        "        print(\"Registros na tabela alunos:\")\n",
        "        for registro in registros:\n",
        "          print(registro)\n",
        "\n",
        "\n",
        "\n",
        "\n",
        "# Criar a tabela alunos (caso não exista)\n",
        "conn.execute('''CREATE TABLE IF NOT EXISTS alunos (\n",
        "                id INTEGER PRIMARY KEY AUTOINCREMENT,\n",
        "                nome TEXT NOT NULL,\n",
        "                idade INTEGER NOT NULL,\n",
        "                serie INTEGER NOT NULL)\n",
        "\n",
        "             ''')\n",
        "\n",
        "# Passo 4: Usar métodos da classe para interagir com o banco de dados\n",
        "# Criar um novo aluno\n",
        "novo_aluno = Aluno('João', 20, 5)\n",
        "novo_aluno.salvar()\n",
        "\n",
        "# Buscar um aluno\n",
        "# aluno = Aluno.buscar_por_nome('João')\n",
        "# print(\"Nome:\", aluno.nome)\n",
        "# print(\"Idade:\", aluno.idade)\n",
        "\n",
        "# Atualizar um aluno\n",
        "# aluno.idade = 21\n",
        "# aluno.atualizar()\n",
        "\n",
        "# Deletar um aluno\n",
        "# aluno.excluir()\n",
        "\n",
        "# novo_aluno.buscar_por_nome(\"Maria\")\n",
        "\n",
        "# Fechar a conexão com o banco de dados\n",
        "# conn.close()\n"
      ],
      "metadata": {
        "id": "vGvNVQnACmVW"
      },
      "execution_count": 58,
      "outputs": []
    },
    {
      "cell_type": "code",
      "source": [
        "novo_aluno2 = Aluno('Maria', 18, 1)\n",
        "novo_aluno2.salvar()\n",
        "\n",
        "print(novo_aluno2.nome)\n"
      ],
      "metadata": {
        "colab": {
          "base_uri": "https://localhost:8080/"
        },
        "id": "vR4zabScC5-9",
        "outputId": "a1316b29-c841-4ba6-c92a-3f5258052d6b"
      },
      "execution_count": 59,
      "outputs": [
        {
          "output_type": "stream",
          "name": "stdout",
          "text": [
            "Maria\n"
          ]
        }
      ]
    },
    {
      "cell_type": "code",
      "source": [
        "print(f'Aluno: {novo_aluno2.nome} \\nIdade: {novo_aluno2.idade} \\nSérie: {novo_aluno2.serie}')"
      ],
      "metadata": {
        "colab": {
          "base_uri": "https://localhost:8080/"
        },
        "id": "dbgLQpBeDYKE",
        "outputId": "498895aa-8114-4810-8030-791a3220d8a4"
      },
      "execution_count": 60,
      "outputs": [
        {
          "output_type": "stream",
          "name": "stdout",
          "text": [
            "Aluno: Maria \n",
            "Idade: 18 \n",
            "Série: 1\n"
          ]
        }
      ]
    },
    {
      "cell_type": "code",
      "source": [
        "registros = Aluno.mostrar_todos()\n",
        "print(\"Todos registros\")\n",
        "\n",
        "for registro in registros:\n",
        "  print(registro)"
      ],
      "metadata": {
        "colab": {
          "base_uri": "https://localhost:8080/",
          "height": 211
        },
        "id": "86nQu9WiFDBb",
        "outputId": "64dac58b-bfe4-4e6d-ecc6-e86ba952de1e"
      },
      "execution_count": 61,
      "outputs": [
        {
          "output_type": "error",
          "ename": "TypeError",
          "evalue": "Aluno.mostrar_todos() missing 1 required positional argument: 'self'",
          "traceback": [
            "\u001b[0;31m---------------------------------------------------------------------------\u001b[0m",
            "\u001b[0;31mTypeError\u001b[0m                                 Traceback (most recent call last)",
            "\u001b[0;32m<ipython-input-61-5e4b287d620a>\u001b[0m in \u001b[0;36m<cell line: 1>\u001b[0;34m()\u001b[0m\n\u001b[0;32m----> 1\u001b[0;31m \u001b[0mregistros\u001b[0m \u001b[0;34m=\u001b[0m \u001b[0mAluno\u001b[0m\u001b[0;34m.\u001b[0m\u001b[0mmostrar_todos\u001b[0m\u001b[0;34m(\u001b[0m\u001b[0;34m)\u001b[0m\u001b[0;34m\u001b[0m\u001b[0;34m\u001b[0m\u001b[0m\n\u001b[0m\u001b[1;32m      2\u001b[0m \u001b[0mprint\u001b[0m\u001b[0;34m(\u001b[0m\u001b[0;34m\"Todos registros\"\u001b[0m\u001b[0;34m)\u001b[0m\u001b[0;34m\u001b[0m\u001b[0;34m\u001b[0m\u001b[0m\n\u001b[1;32m      3\u001b[0m \u001b[0;34m\u001b[0m\u001b[0m\n\u001b[1;32m      4\u001b[0m \u001b[0;32mfor\u001b[0m \u001b[0mregistro\u001b[0m \u001b[0;32min\u001b[0m \u001b[0mregistros\u001b[0m\u001b[0;34m:\u001b[0m\u001b[0;34m\u001b[0m\u001b[0;34m\u001b[0m\u001b[0m\n\u001b[1;32m      5\u001b[0m   \u001b[0mprint\u001b[0m\u001b[0;34m(\u001b[0m\u001b[0mregistro\u001b[0m\u001b[0;34m)\u001b[0m\u001b[0;34m\u001b[0m\u001b[0;34m\u001b[0m\u001b[0m\n",
            "\u001b[0;31mTypeError\u001b[0m: Aluno.mostrar_todos() missing 1 required positional argument: 'self'"
          ]
        }
      ]
    },
    {
      "cell_type": "code",
      "source": [],
      "metadata": {
        "id": "RGu0IWlxLOtc"
      },
      "execution_count": null,
      "outputs": []
    }
  ]
}